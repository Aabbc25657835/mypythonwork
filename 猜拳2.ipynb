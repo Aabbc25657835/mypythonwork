{
 "cells": [
  {
   "cell_type": "code",
   "execution_count": 1,
   "metadata": {},
   "outputs": [],
   "source": [
    "%matplotlib inline\n",
    "import numpy as np\n",
    "import matplotlib.pyplot as plt\n",
    "import pandas as pd"
   ]
  },
  {
   "cell_type": "code",
   "execution_count": null,
   "metadata": {},
   "outputs": [],
   "source": [
    "egg=['你贏','你輸','平手']\n",
    "ham=input(\"剪刀石頭布:\")\n",
    "robot=np.random.choice(egg)\n",
    "print(robot)"
   ]
  },
  {
   "cell_type": "code",
   "execution_count": 2,
   "metadata": {},
   "outputs": [
    {
     "name": "stdout",
     "output_type": "stream",
     "text": [
      "來猜拳\n",
      "你想玩幾局(請輸入奇數)>> 3\n",
      "3戰2勝制, 先贏2次的一方獲勝!\n",
      "\n",
      "你出:布\n",
      "你:機器人=1:0\n",
      "\n",
      "你出:石頭\n",
      "平手!這局不算!再來一次~\n",
      "\n",
      "你出:剪刀\n",
      "平手!這局不算!再來一次~\n",
      "\n",
      "你出:剪刀\n",
      "你:機器人=2:0\n",
      "\n",
      "你贏了!恭喜你!\n"
     ]
    }
   ],
   "source": [
    "print('來猜拳')\n",
    "\n",
    "egg = ['你贏', '你輸', '平手']\n",
    "\n",
    "ham = int(input('你想玩幾局(請輸入奇數)>> '))\n",
    "n = int((ham+1)/2)\n",
    "\n",
    "pw = 0\n",
    "rw = 0\n",
    "\n",
    "print('''{}戰{}勝制, 先贏{}次的一方獲勝!\n",
    "'''.format(ham, n, n))\n",
    "\n",
    "while( (pw<n) and (rw<n) ):\n",
    "    \n",
    "    player = input('你出:')\n",
    "    robot = np.random.choice(egg)\n",
    "    \n",
    "    if(robot==\"平手\"):\n",
    "        print('''平手!這局不算!再來一次~\n",
    "''')\n",
    "    elif(robot==\"你贏\"):\n",
    "        pw = pw + 1\n",
    "        print('''你:機器人={}:{}\n",
    "'''.format(pw, rw))\n",
    "    else:\n",
    "        rw = rw + 1\n",
    "        print('''你:機器人={}:{}\n",
    "'''.format(pw, rw))\n",
    "              \n",
    "if(pw == n):\n",
    "    print('你贏了!恭喜你!')\n",
    "else:\n",
    "    print('你輸了ㅠㅠ')"
   ]
  },
  {
   "cell_type": "code",
   "execution_count": null,
   "metadata": {},
   "outputs": [],
   "source": []
  }
 ],
 "metadata": {
  "kernelspec": {
   "display_name": "Python 3",
   "language": "python",
   "name": "python3"
  },
  "language_info": {
   "codemirror_mode": {
    "name": "ipython",
    "version": 3
   },
   "file_extension": ".py",
   "mimetype": "text/x-python",
   "name": "python",
   "nbconvert_exporter": "python",
   "pygments_lexer": "ipython3",
   "version": "3.7.3"
  }
 },
 "nbformat": 4,
 "nbformat_minor": 2
}
