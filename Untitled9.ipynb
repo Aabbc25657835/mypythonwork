{
 "cells": [
  {
   "cell_type": "code",
   "execution_count": 1,
   "metadata": {},
   "outputs": [],
   "source": [
    "%matplotlib inline\n",
    "import numpy as np\n",
    "import matplotlib.pyplot as plt\n",
    "import pandas as pd"
   ]
  },
  {
   "cell_type": "code",
   "execution_count": 2,
   "metadata": {},
   "outputs": [],
   "source": [
    "a=[1,4,1,5,9,2,6,5,3,5,8,9,7,9,3,2,3,8,4,6,2,6,4,3,3,8,3,2,7,9,5,0,2,8,8,4,1,9,7,1,6,9,3,9,9,3,7,5,1,0,5,8,2,0,9,7,4,9,4,4,5,9,2,3,0,7,8,1,6,4,0,6,2,8,6,2,0,8,9,9,8,6,2,8,0,3,4,8,2,5,3,4,2,1,1,7,0,6,7,9]"
   ]
  },
  {
   "cell_type": "code",
   "execution_count": 17,
   "metadata": {},
   "outputs": [
    {
     "name": "stdout",
     "output_type": "stream",
     "text": [
      "你想知道圓周率到第幾個數字>> 56\n",
      "1\n",
      "4\n",
      "1\n",
      "5\n",
      "9\n",
      "2\n",
      "6\n",
      "5\n",
      "3\n",
      "5\n",
      "8\n",
      "9\n",
      "7\n",
      "9\n",
      "3\n",
      "2\n",
      "3\n",
      "8\n",
      "4\n",
      "6\n",
      "2\n",
      "6\n",
      "4\n",
      "3\n",
      "3\n",
      "8\n",
      "3\n",
      "2\n",
      "7\n",
      "9\n",
      "5\n",
      "0\n",
      "2\n",
      "8\n",
      "8\n",
      "4\n",
      "1\n",
      "9\n",
      "7\n",
      "1\n",
      "6\n",
      "9\n",
      "3\n",
      "9\n",
      "9\n",
      "3\n",
      "7\n",
      "5\n",
      "1\n",
      "0\n",
      "5\n",
      "8\n",
      "2\n",
      "0\n",
      "9\n",
      "7\n"
     ]
    }
   ],
   "source": [
    "n = input(\"你想知道圓周率到第幾個數字>> \")\n",
    "nn=int(n)\n",
    "b=a[0:nn]\n",
    "for i in b:\n",
    "    print(int(i))"
   ]
  },
  {
   "cell_type": "markdown",
   "metadata": {},
   "source": [
    "# 只有到100"
   ]
  },
  {
   "cell_type": "code",
   "execution_count": null,
   "metadata": {},
   "outputs": [],
   "source": []
  }
 ],
 "metadata": {
  "kernelspec": {
   "display_name": "Python 3",
   "language": "python",
   "name": "python3"
  },
  "language_info": {
   "codemirror_mode": {
    "name": "ipython",
    "version": 3
   },
   "file_extension": ".py",
   "mimetype": "text/x-python",
   "name": "python",
   "nbconvert_exporter": "python",
   "pygments_lexer": "ipython3",
   "version": "3.7.3"
  }
 },
 "nbformat": 4,
 "nbformat_minor": 2
}
