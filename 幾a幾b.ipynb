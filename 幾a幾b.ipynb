{
 "cells": [
  {
   "cell_type": "code",
   "execution_count": 1,
   "metadata": {},
   "outputs": [],
   "source": [
    "%matplotlib inline\n",
    "import numpy as np\n",
    "import matplotlib.pyplot as plt\n",
    "import pandas as pd"
   ]
  },
  {
   "cell_type": "code",
   "execution_count": 2,
   "metadata": {},
   "outputs": [
    {
     "name": "stdout",
     "output_type": "stream",
     "text": [
      ">> 1234\n",
      "2A0B\n",
      ">> 1256\n",
      "1A0B\n",
      ">> 1378\n",
      "1A1B\n",
      ">> 1930\n",
      "1A1B\n",
      ">> 1794\n",
      "3A0B\n",
      ">> 1704\n",
      "4A0B\n",
      "你贏了\n"
     ]
    }
   ],
   "source": [
    "ham=np.random.choice(range(10),size=4,replace=False)\n",
    "a=0\n",
    "while(a!=4):\n",
    "    egg=input(\">> \")\n",
    "    egg=list(egg)\n",
    "    j=0\n",
    "    a=0\n",
    "    for i in range(4):\n",
    "        if int(egg[i]) in ham:\n",
    "            j+=1\n",
    "        if int(egg[i])==ham[i]:\n",
    "            a+=1\n",
    "    b=j-a\n",
    "    print(f\"{a}A{b}B\")\n",
    "print(\"你贏了\")"
   ]
  },
  {
   "cell_type": "code",
   "execution_count": null,
   "metadata": {},
   "outputs": [],
   "source": []
  }
 ],
 "metadata": {
  "kernelspec": {
   "display_name": "Python 3",
   "language": "python",
   "name": "python3"
  },
  "language_info": {
   "codemirror_mode": {
    "name": "ipython",
    "version": 3
   },
   "file_extension": ".py",
   "mimetype": "text/x-python",
   "name": "python",
   "nbconvert_exporter": "python",
   "pygments_lexer": "ipython3",
   "version": "3.7.3"
  }
 },
 "nbformat": 4,
 "nbformat_minor": 2
}
