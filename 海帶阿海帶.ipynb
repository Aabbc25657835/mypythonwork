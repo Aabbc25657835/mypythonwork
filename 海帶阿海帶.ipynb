{
 "cells": [
  {
   "cell_type": "code",
   "execution_count": 1,
   "metadata": {},
   "outputs": [],
   "source": [
    "%matplotlib inline\n",
    "import numpy as np\n",
    "import matplotlib.pyplot as plt\n",
    "import pandas as pd"
   ]
  },
  {
   "cell_type": "code",
   "execution_count": 6,
   "metadata": {},
   "outputs": [
    {
     "name": "stdout",
     "output_type": "stream",
     "text": [
      "海帶阿海帶\n",
      "由你先攻\n",
      "你的回合\n",
      ">> 左\n",
      "機器人出:上\n",
      "機器人的回合\n",
      ">> 下\n",
      "機器人出:右\n",
      " \n",
      "你的回合\n",
      ">> 右\n",
      "機器人出:下\n",
      "機器人的回合\n",
      ">> 右\n",
      "機器人出:右\n",
      "你輸了\n"
     ]
    }
   ],
   "source": [
    "print('''海帶阿海帶\n",
    "由你先攻''')\n",
    "egg=['上','下','左','右']\n",
    "robot=0\n",
    "human=1\n",
    "while(robot!=human):\n",
    "    print('你的回合')\n",
    "    human=input(\">> \")\n",
    "    robot=np.random.choice(egg)\n",
    "    print('機器人出:{}'.format(robot))\n",
    "    \n",
    "    if (human==robot):\n",
    "        print(\"你贏了\")\n",
    "    else:\n",
    "        print(\"機器人的回合\")\n",
    "        human=input(\">> \")\n",
    "        robot=np.random.choice(egg)\n",
    "        print('機器人出:{}'.format(robot))\n",
    "        if(human==robot):\n",
    "            print(\"你輸了\")\n",
    "        else:\n",
    "            print(\" \")"
   ]
  },
  {
   "cell_type": "code",
   "execution_count": null,
   "metadata": {},
   "outputs": [],
   "source": []
  }
 ],
 "metadata": {
  "kernelspec": {
   "display_name": "Python 3",
   "language": "python",
   "name": "python3"
  },
  "language_info": {
   "codemirror_mode": {
    "name": "ipython",
    "version": 3
   },
   "file_extension": ".py",
   "mimetype": "text/x-python",
   "name": "python",
   "nbconvert_exporter": "python",
   "pygments_lexer": "ipython3",
   "version": "3.7.3"
  }
 },
 "nbformat": 4,
 "nbformat_minor": 2
}
