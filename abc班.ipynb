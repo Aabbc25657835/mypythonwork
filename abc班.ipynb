{
 "cells": [
  {
   "cell_type": "code",
   "execution_count": 23,
   "metadata": {},
   "outputs": [],
   "source": [
    "%matplotlib inline\n",
    "import numpy as np\n",
    "import matplotlib.pyplot as plt\n",
    "import pandas as pd"
   ]
  },
  {
   "cell_type": "markdown",
   "metadata": {},
   "source": [
    "# a班"
   ]
  },
  {
   "cell_type": "code",
   "execution_count": 24,
   "metadata": {},
   "outputs": [
    {
     "data": {
      "text/plain": [
       "array([[84, 79, 90,  3,  3],\n",
       "       [73, 14, 39, 78, 22],\n",
       "       [68, 88, 33,  3, 12],\n",
       "       [93, 98, 46, 33, 63],\n",
       "       [23, 48, 12, 67, 80],\n",
       "       [86, 18, 75, 39,  8],\n",
       "       [70, 79, 22, 87, 92],\n",
       "       [69, 73, 45, 66, 87],\n",
       "       [ 1, 37, 37,  2, 80],\n",
       "       [42, 11, 37, 21, 70]])"
      ]
     },
     "execution_count": 24,
     "metadata": {},
     "output_type": "execute_result"
    }
   ],
   "source": [
    "a=np.random.randint(0,100,50)\n",
    "a=np.array(a)\n",
    "a.shape=(10,5)\n",
    "a"
   ]
  },
  {
   "cell_type": "code",
   "execution_count": 25,
   "metadata": {},
   "outputs": [
    {
     "data": {
      "text/plain": [
       "array([64.  , 45.4 , 48.9 , 70.5 , 38.8 , 51.4 , 65.  , 65.35, 27.05,\n",
       "       32.65])"
      ]
     },
     "execution_count": 25,
     "metadata": {},
     "output_type": "execute_result"
    }
   ],
   "source": [
    "w=[0.25,0.25,0.25,0.15,0.10]\n",
    "np.dot(a,w)"
   ]
  },
  {
   "cell_type": "markdown",
   "metadata": {},
   "source": [
    "# b班"
   ]
  },
  {
   "cell_type": "code",
   "execution_count": 27,
   "metadata": {},
   "outputs": [
    {
     "data": {
      "text/plain": [
       "array([[16, 98, 94,  6, 45],\n",
       "       [68, 96, 14, 80, 67],\n",
       "       [52, 46,  6, 24,  5],\n",
       "       [18, 17, 18, 48, 68],\n",
       "       [67, 98, 62, 44, 63],\n",
       "       [76, 63, 59, 31, 42],\n",
       "       [85, 66, 43, 86, 74],\n",
       "       [34, 20, 76, 42, 88],\n",
       "       [62, 51, 91,  3, 37],\n",
       "       [93, 23, 31, 49, 38]])"
      ]
     },
     "execution_count": 27,
     "metadata": {},
     "output_type": "execute_result"
    }
   ],
   "source": [
    "b=np.random.randint(0,100,50)\n",
    "b=np.array(b)\n",
    "b.shape=(10,5)\n",
    "b"
   ]
  },
  {
   "cell_type": "code",
   "execution_count": 28,
   "metadata": {},
   "outputs": [
    {
     "data": {
      "text/plain": [
       "array([57.4 , 63.2 , 30.1 , 27.25, 69.65, 58.35, 68.8 , 47.6 , 55.15,\n",
       "       47.9 ])"
      ]
     },
     "execution_count": 28,
     "metadata": {},
     "output_type": "execute_result"
    }
   ],
   "source": [
    "w=[0.25,0.25,0.25,0.15,0.10]\n",
    "np.dot(b,w)"
   ]
  },
  {
   "cell_type": "markdown",
   "metadata": {},
   "source": [
    "# c班"
   ]
  },
  {
   "cell_type": "code",
   "execution_count": 29,
   "metadata": {},
   "outputs": [
    {
     "data": {
      "text/plain": [
       "array([[37,  2, 15, 98, 72],\n",
       "       [10, 89, 92, 23, 19],\n",
       "       [46, 75, 19, 15, 66],\n",
       "       [ 0, 13, 85, 93, 39],\n",
       "       [ 8,  9, 41, 61, 61],\n",
       "       [16, 50, 55, 34, 98],\n",
       "       [37, 40, 58, 80, 68],\n",
       "       [ 6, 64, 96, 90, 32],\n",
       "       [71, 23, 54, 63,  1],\n",
       "       [76, 40, 75, 32, 11]])"
      ]
     },
     "execution_count": 29,
     "metadata": {},
     "output_type": "execute_result"
    }
   ],
   "source": [
    "c=np.random.randint(0,100,50)\n",
    "c=np.array(c)\n",
    "c.shape=(10,5)\n",
    "c"
   ]
  },
  {
   "cell_type": "code",
   "execution_count": 30,
   "metadata": {},
   "outputs": [
    {
     "data": {
      "text/plain": [
       "array([35.4 , 53.1 , 43.85, 42.35, 29.75, 45.15, 52.55, 58.2 , 46.55,\n",
       "       53.65])"
      ]
     },
     "execution_count": 30,
     "metadata": {},
     "output_type": "execute_result"
    }
   ],
   "source": [
    "w=[0.25,0.25,0.25,0.15,0.10]\n",
    "np.dot(c,w)"
   ]
  },
  {
   "cell_type": "code",
   "execution_count": null,
   "metadata": {},
   "outputs": [],
   "source": []
  }
 ],
 "metadata": {
  "kernelspec": {
   "display_name": "Python 3",
   "language": "python",
   "name": "python3"
  },
  "language_info": {
   "codemirror_mode": {
    "name": "ipython",
    "version": 3
   },
   "file_extension": ".py",
   "mimetype": "text/x-python",
   "name": "python",
   "nbconvert_exporter": "python",
   "pygments_lexer": "ipython3",
   "version": "3.7.3"
  }
 },
 "nbformat": 4,
 "nbformat_minor": 2
}
