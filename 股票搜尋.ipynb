{
 "cells": [
  {
   "cell_type": "code",
   "execution_count": 1,
   "metadata": {},
   "outputs": [],
   "source": [
    "%matplotlib inline\n",
    "\n",
    "import numpy as np\n",
    "import matplotlib.pyplot as plt\n",
    "import pandas as pd"
   ]
  },
  {
   "cell_type": "code",
   "execution_count": 8,
   "metadata": {},
   "outputs": [],
   "source": [
    "df_tmp=pd.read_html(\"https://tw.stock.yahoo.com/us/s/kimo_listUS7.html?rr=15729529265200.9573216999662257\",encoding=\"big5\")"
   ]
  },
  {
   "cell_type": "code",
   "execution_count": 9,
   "metadata": {},
   "outputs": [
    {
     "data": {
      "text/plain": [
       "3"
      ]
     },
     "execution_count": 9,
     "metadata": {},
     "output_type": "execute_result"
    }
   ],
   "source": [
    "len(df_tmp)"
   ]
  },
  {
   "cell_type": "code",
   "execution_count": 19,
   "metadata": {},
   "outputs": [],
   "source": [
    "df=df_tmp[1]"
   ]
  },
  {
   "cell_type": "code",
   "execution_count": 11,
   "metadata": {},
   "outputs": [
    {
     "data": {
      "text/html": [
       "<div>\n",
       "<style scoped>\n",
       "    .dataframe tbody tr th:only-of-type {\n",
       "        vertical-align: middle;\n",
       "    }\n",
       "\n",
       "    .dataframe tbody tr th {\n",
       "        vertical-align: top;\n",
       "    }\n",
       "\n",
       "    .dataframe thead th {\n",
       "        text-align: right;\n",
       "    }\n",
       "</style>\n",
       "<table border=\"1\" class=\"dataframe\">\n",
       "  <thead>\n",
       "    <tr style=\"text-align: right;\">\n",
       "      <th></th>\n",
       "      <th>股票代號英文名稱</th>\n",
       "      <th>時間</th>\n",
       "      <th>成交</th>\n",
       "      <th>買進</th>\n",
       "      <th>賣出</th>\n",
       "      <th>漲跌</th>\n",
       "      <th>成交量</th>\n",
       "      <th>昨收</th>\n",
       "      <th>開盤</th>\n",
       "      <th>最高</th>\n",
       "      <th>最低</th>\n",
       "    </tr>\n",
       "  </thead>\n",
       "  <tbody>\n",
       "    <tr>\n",
       "      <th>0</th>\n",
       "      <td>ALLTEL(Alltel Corp)</td>\n",
       "      <td>05:02am</td>\n",
       "      <td>2.44</td>\n",
       "      <td>—</td>\n",
       "      <td>—</td>\n",
       "      <td>△0.04</td>\n",
       "      <td>351880</td>\n",
       "      <td>2.40</td>\n",
       "      <td>2.42</td>\n",
       "      <td>2.44</td>\n",
       "      <td>2.38</td>\n",
       "    </tr>\n",
       "    <tr>\n",
       "      <th>1</th>\n",
       "      <td>中國通訊(China Mobile (Hong Kong) Ltd)</td>\n",
       "      <td>05:02am</td>\n",
       "      <td>40.21</td>\n",
       "      <td>40.06</td>\n",
       "      <td>44.86</td>\n",
       "      <td>▽0.65</td>\n",
       "      <td>683813</td>\n",
       "      <td>40.86</td>\n",
       "      <td>40.34</td>\n",
       "      <td>40.34</td>\n",
       "      <td>40.09</td>\n",
       "    </tr>\n",
       "    <tr>\n",
       "      <th>2</th>\n",
       "      <td>Sprint Nextel(Sprint Nextel Group)</td>\n",
       "      <td>05:00am</td>\n",
       "      <td>5.91</td>\n",
       "      <td>5.86</td>\n",
       "      <td>6.06</td>\n",
       "      <td>▽0.2</td>\n",
       "      <td>19812884</td>\n",
       "      <td>6.11</td>\n",
       "      <td>6.06</td>\n",
       "      <td>6.12</td>\n",
       "      <td>5.84</td>\n",
       "    </tr>\n",
       "    <tr>\n",
       "      <th>3</th>\n",
       "      <td>摩托羅拉(Motorola Inc)</td>\n",
       "      <td>05:02am</td>\n",
       "      <td>161.15</td>\n",
       "      <td>158.17</td>\n",
       "      <td>164.61</td>\n",
       "      <td>▽3.81</td>\n",
       "      <td>1157804</td>\n",
       "      <td>164.96</td>\n",
       "      <td>162.34</td>\n",
       "      <td>163.41</td>\n",
       "      <td>160.15</td>\n",
       "    </tr>\n",
       "    <tr>\n",
       "      <th>4</th>\n",
       "      <td>諾基亞(Nokia Corp)</td>\n",
       "      <td>05:03am</td>\n",
       "      <td>3.53</td>\n",
       "      <td>3.50</td>\n",
       "      <td>3.51</td>\n",
       "      <td>▽0.04</td>\n",
       "      <td>39811972</td>\n",
       "      <td>3.57</td>\n",
       "      <td>3.50</td>\n",
       "      <td>3.57</td>\n",
       "      <td>3.50</td>\n",
       "    </tr>\n",
       "  </tbody>\n",
       "</table>\n",
       "</div>"
      ],
      "text/plain": [
       "                             股票代號英文名稱       時間      成交      買進      賣出     漲跌  \\\n",
       "0                 ALLTEL(Alltel Corp)  05:02am    2.44       —       —  △0.04   \n",
       "1  中國通訊(China Mobile (Hong Kong) Ltd)  05:02am   40.21   40.06   44.86  ▽0.65   \n",
       "2  Sprint Nextel(Sprint Nextel Group)  05:00am    5.91    5.86    6.06   ▽0.2   \n",
       "3                  摩托羅拉(Motorola Inc)  05:02am  161.15  158.17  164.61  ▽3.81   \n",
       "4                     諾基亞(Nokia Corp)  05:03am    3.53    3.50    3.51  ▽0.04   \n",
       "\n",
       "        成交量      昨收      開盤      最高      最低  \n",
       "0    351880    2.40    2.42    2.44    2.38  \n",
       "1    683813   40.86   40.34   40.34   40.09  \n",
       "2  19812884    6.11    6.06    6.12    5.84  \n",
       "3   1157804  164.96  162.34  163.41  160.15  \n",
       "4  39811972    3.57    3.50    3.57    3.50  "
      ]
     },
     "execution_count": 11,
     "metadata": {},
     "output_type": "execute_result"
    }
   ],
   "source": [
    "df.head()"
   ]
  },
  {
   "cell_type": "markdown",
   "metadata": {},
   "source": [
    "## 搜尋"
   ]
  },
  {
   "cell_type": "code",
   "execution_count": 20,
   "metadata": {},
   "outputs": [],
   "source": [
    "df_rank=df[[\"股票代號英文名稱\",\"時間\",\"成交\",\"買進\",\"賣出\"]]"
   ]
  },
  {
   "cell_type": "code",
   "execution_count": 21,
   "metadata": {},
   "outputs": [
    {
     "data": {
      "text/html": [
       "<div>\n",
       "<style scoped>\n",
       "    .dataframe tbody tr th:only-of-type {\n",
       "        vertical-align: middle;\n",
       "    }\n",
       "\n",
       "    .dataframe tbody tr th {\n",
       "        vertical-align: top;\n",
       "    }\n",
       "\n",
       "    .dataframe thead th {\n",
       "        text-align: right;\n",
       "    }\n",
       "</style>\n",
       "<table border=\"1\" class=\"dataframe\">\n",
       "  <thead>\n",
       "    <tr style=\"text-align: right;\">\n",
       "      <th></th>\n",
       "      <th>股票代號英文名稱</th>\n",
       "      <th>時間</th>\n",
       "      <th>成交</th>\n",
       "      <th>買進</th>\n",
       "      <th>賣出</th>\n",
       "    </tr>\n",
       "  </thead>\n",
       "  <tbody>\n",
       "    <tr>\n",
       "      <th>3</th>\n",
       "      <td>摩托羅拉(Motorola Inc)</td>\n",
       "      <td>05:02am</td>\n",
       "      <td>161.15</td>\n",
       "      <td>158.17</td>\n",
       "      <td>164.61</td>\n",
       "    </tr>\n",
       "  </tbody>\n",
       "</table>\n",
       "</div>"
      ],
      "text/plain": [
       "             股票代號英文名稱       時間      成交      買進      賣出\n",
       "3  摩托羅拉(Motorola Inc)  05:02am  161.15  158.17  164.61"
      ]
     },
     "execution_count": 21,
     "metadata": {},
     "output_type": "execute_result"
    }
   ],
   "source": [
    "df_rank[df_rank.股票代號英文名稱==\"摩托羅拉(Motorola Inc)\"]"
   ]
  },
  {
   "cell_type": "code",
   "execution_count": 23,
   "metadata": {},
   "outputs": [
    {
     "name": "stdout",
     "output_type": "stream",
     "text": [
      ">>諾基亞(Nokia Corp)\n"
     ]
    },
    {
     "data": {
      "text/html": [
       "<div>\n",
       "<style scoped>\n",
       "    .dataframe tbody tr th:only-of-type {\n",
       "        vertical-align: middle;\n",
       "    }\n",
       "\n",
       "    .dataframe tbody tr th {\n",
       "        vertical-align: top;\n",
       "    }\n",
       "\n",
       "    .dataframe thead th {\n",
       "        text-align: right;\n",
       "    }\n",
       "</style>\n",
       "<table border=\"1\" class=\"dataframe\">\n",
       "  <thead>\n",
       "    <tr style=\"text-align: right;\">\n",
       "      <th></th>\n",
       "      <th>股票代號英文名稱</th>\n",
       "      <th>時間</th>\n",
       "      <th>成交</th>\n",
       "      <th>買進</th>\n",
       "      <th>賣出</th>\n",
       "    </tr>\n",
       "  </thead>\n",
       "  <tbody>\n",
       "    <tr>\n",
       "      <th>4</th>\n",
       "      <td>諾基亞(Nokia Corp)</td>\n",
       "      <td>05:03am</td>\n",
       "      <td>3.53</td>\n",
       "      <td>3.50</td>\n",
       "      <td>3.51</td>\n",
       "    </tr>\n",
       "  </tbody>\n",
       "</table>\n",
       "</div>"
      ],
      "text/plain": [
       "          股票代號英文名稱       時間    成交    買進    賣出\n",
       "4  諾基亞(Nokia Corp)  05:03am  3.53  3.50  3.51"
      ]
     },
     "execution_count": 23,
     "metadata": {},
     "output_type": "execute_result"
    }
   ],
   "source": [
    "df_rank[df_rank.股票代號英文名稱==input(\">>\")]"
   ]
  },
  {
   "cell_type": "code",
   "execution_count": null,
   "metadata": {},
   "outputs": [],
   "source": []
  }
 ],
 "metadata": {
  "kernelspec": {
   "display_name": "Python 3",
   "language": "python",
   "name": "python3"
  },
  "language_info": {
   "codemirror_mode": {
    "name": "ipython",
    "version": 3
   },
   "file_extension": ".py",
   "mimetype": "text/x-python",
   "name": "python",
   "nbconvert_exporter": "python",
   "pygments_lexer": "ipython3",
   "version": "3.7.3"
  }
 },
 "nbformat": 4,
 "nbformat_minor": 2
}
