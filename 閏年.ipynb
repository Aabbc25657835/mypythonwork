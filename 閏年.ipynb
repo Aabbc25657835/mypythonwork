{
 "cells": [
  {
   "cell_type": "code",
   "execution_count": 1,
   "metadata": {},
   "outputs": [],
   "source": [
    "import numpy as np"
   ]
  },
  {
   "cell_type": "code",
   "execution_count": 3,
   "metadata": {},
   "outputs": [
    {
     "name": "stdout",
     "output_type": "stream",
     "text": [
      ">> 2100\n",
      "不是閏年\n"
     ]
    }
   ],
   "source": [
    "year=int(input(\">> \"))\n",
    "if year%400==0:\n",
    "    print(\"閏年\")\n",
    "elif year%100==0:\n",
    "    print(\"不是閏年\")\n",
    "elif year%4==0:\n",
    "    print(\"閏年\")\n",
    "else:\n",
    "    print(\"不是閏年\")"
   ]
  },
  {
   "cell_type": "code",
   "execution_count": null,
   "metadata": {},
   "outputs": [],
   "source": []
  }
 ],
 "metadata": {
  "kernelspec": {
   "display_name": "Python 3",
   "language": "python",
   "name": "python3"
  },
  "language_info": {
   "codemirror_mode": {
    "name": "ipython",
    "version": 3
   },
   "file_extension": ".py",
   "mimetype": "text/x-python",
   "name": "python",
   "nbconvert_exporter": "python",
   "pygments_lexer": "ipython3",
   "version": "3.7.3"
  }
 },
 "nbformat": 4,
 "nbformat_minor": 2
}
