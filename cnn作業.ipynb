{
  "nbformat": 4,
  "nbformat_minor": 0,
  "metadata": {
    "colab": {
      "name": "Untitled0.ipynb",
      "provenance": []
    },
    "kernelspec": {
      "name": "python3",
      "display_name": "Python 3"
    },
    "accelerator": "GPU",
    "widgets": {
      "application/vnd.jupyter.widget-state+json": {
        "d71c60181ae94df0b2f630c857827b62": {
          "model_module": "@jupyter-widgets/controls",
          "model_name": "VBoxModel",
          "state": {
            "_view_name": "VBoxView",
            "_dom_classes": [
              "widget-interact"
            ],
            "_model_name": "VBoxModel",
            "_view_module": "@jupyter-widgets/controls",
            "_model_module_version": "1.5.0",
            "_view_count": null,
            "_view_module_version": "1.5.0",
            "box_style": "",
            "layout": "IPY_MODEL_2a74f45941d2473c9691616d7bec0120",
            "_model_module": "@jupyter-widgets/controls",
            "children": [
              "IPY_MODEL_145416352f8b4b1ab127c7abe59a2505",
              "IPY_MODEL_d1fa102a95b94e48a7f63def2664be46",
              "IPY_MODEL_160b8ab8a58645508c599cc8184f7431"
            ]
          }
        },
        "2a74f45941d2473c9691616d7bec0120": {
          "model_module": "@jupyter-widgets/base",
          "model_name": "LayoutModel",
          "state": {
            "_view_name": "LayoutView",
            "grid_template_rows": null,
            "right": null,
            "justify_content": null,
            "_view_module": "@jupyter-widgets/base",
            "overflow": null,
            "_model_module_version": "1.2.0",
            "_view_count": null,
            "flex_flow": null,
            "width": null,
            "min_width": null,
            "border": null,
            "align_items": null,
            "bottom": null,
            "_model_module": "@jupyter-widgets/base",
            "top": null,
            "grid_column": null,
            "overflow_y": null,
            "overflow_x": null,
            "grid_auto_flow": null,
            "grid_area": null,
            "grid_template_columns": null,
            "flex": null,
            "_model_name": "LayoutModel",
            "justify_items": null,
            "grid_row": null,
            "max_height": null,
            "align_content": null,
            "visibility": null,
            "align_self": null,
            "height": null,
            "min_height": null,
            "padding": null,
            "grid_auto_rows": null,
            "grid_gap": null,
            "max_width": null,
            "order": null,
            "_view_module_version": "1.2.0",
            "grid_template_areas": null,
            "object_position": null,
            "object_fit": null,
            "grid_auto_columns": null,
            "margin": null,
            "display": null,
            "left": null
          }
        },
        "145416352f8b4b1ab127c7abe59a2505": {
          "model_module": "@jupyter-widgets/controls",
          "model_name": "IntSliderModel",
          "state": {
            "_view_name": "IntSliderView",
            "style": "IPY_MODEL_c6b5bcc694f147db9a5fc070cb1d4a7c",
            "_dom_classes": [],
            "description": "n",
            "step": 1,
            "_model_name": "IntSliderModel",
            "orientation": "horizontal",
            "max": 9999,
            "_view_module": "@jupyter-widgets/controls",
            "_model_module_version": "1.5.0",
            "value": 3045,
            "_view_count": null,
            "disabled": false,
            "_view_module_version": "1.5.0",
            "min": 0,
            "continuous_update": true,
            "readout_format": "d",
            "description_tooltip": null,
            "readout": true,
            "_model_module": "@jupyter-widgets/controls",
            "layout": "IPY_MODEL_dd497f42daaa48b29336ee6e680adb9a"
          }
        },
        "d1fa102a95b94e48a7f63def2664be46": {
          "model_module": "@jupyter-widgets/controls",
          "model_name": "ButtonModel",
          "state": {
            "_view_name": "ButtonView",
            "style": "IPY_MODEL_1fe2c2c936954ec9a7d33965824af324",
            "_dom_classes": [],
            "description": "Run Interact",
            "_model_name": "ButtonModel",
            "button_style": "",
            "_view_module": "@jupyter-widgets/controls",
            "_model_module_version": "1.5.0",
            "tooltip": "",
            "_view_count": null,
            "disabled": false,
            "_view_module_version": "1.5.0",
            "layout": "IPY_MODEL_55373d8c55504281b6056fb24dab206f",
            "_model_module": "@jupyter-widgets/controls",
            "icon": ""
          }
        },
        "160b8ab8a58645508c599cc8184f7431": {
          "model_module": "@jupyter-widgets/output",
          "model_name": "OutputModel",
          "state": {
            "_view_name": "OutputView",
            "msg_id": "",
            "_dom_classes": [],
            "_model_name": "OutputModel",
            "outputs": [
              {
                "output_type": "stream",
                "metadata": {
                  "tags": []
                },
                "text": "CNN預測： Dress\n",
                "stream": "stdout"
              },
              {
                "output_type": "display_data",
                "metadata": {
                  "tags": [],
                  "needs_background": "light"
                },
                "image/png": "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\n",
                "text/plain": "<Figure size 432x288 with 1 Axes>"
              }
            ],
            "_view_module": "@jupyter-widgets/output",
            "_model_module_version": "1.0.0",
            "_view_count": null,
            "_view_module_version": "1.0.0",
            "layout": "IPY_MODEL_f2833713aaab4cb2ba6a18b89f4ab918",
            "_model_module": "@jupyter-widgets/output"
          }
        },
        "c6b5bcc694f147db9a5fc070cb1d4a7c": {
          "model_module": "@jupyter-widgets/controls",
          "model_name": "SliderStyleModel",
          "state": {
            "_view_name": "StyleView",
            "handle_color": null,
            "_model_name": "SliderStyleModel",
            "description_width": "",
            "_view_module": "@jupyter-widgets/base",
            "_model_module_version": "1.5.0",
            "_view_count": null,
            "_view_module_version": "1.2.0",
            "_model_module": "@jupyter-widgets/controls"
          }
        },
        "dd497f42daaa48b29336ee6e680adb9a": {
          "model_module": "@jupyter-widgets/base",
          "model_name": "LayoutModel",
          "state": {
            "_view_name": "LayoutView",
            "grid_template_rows": null,
            "right": null,
            "justify_content": null,
            "_view_module": "@jupyter-widgets/base",
            "overflow": null,
            "_model_module_version": "1.2.0",
            "_view_count": null,
            "flex_flow": null,
            "width": null,
            "min_width": null,
            "border": null,
            "align_items": null,
            "bottom": null,
            "_model_module": "@jupyter-widgets/base",
            "top": null,
            "grid_column": null,
            "overflow_y": null,
            "overflow_x": null,
            "grid_auto_flow": null,
            "grid_area": null,
            "grid_template_columns": null,
            "flex": null,
            "_model_name": "LayoutModel",
            "justify_items": null,
            "grid_row": null,
            "max_height": null,
            "align_content": null,
            "visibility": null,
            "align_self": null,
            "height": null,
            "min_height": null,
            "padding": null,
            "grid_auto_rows": null,
            "grid_gap": null,
            "max_width": null,
            "order": null,
            "_view_module_version": "1.2.0",
            "grid_template_areas": null,
            "object_position": null,
            "object_fit": null,
            "grid_auto_columns": null,
            "margin": null,
            "display": null,
            "left": null
          }
        },
        "1fe2c2c936954ec9a7d33965824af324": {
          "model_module": "@jupyter-widgets/controls",
          "model_name": "ButtonStyleModel",
          "state": {
            "_view_name": "StyleView",
            "_model_name": "ButtonStyleModel",
            "_view_module": "@jupyter-widgets/base",
            "_model_module_version": "1.5.0",
            "_view_count": null,
            "button_color": null,
            "font_weight": "",
            "_view_module_version": "1.2.0",
            "_model_module": "@jupyter-widgets/controls"
          }
        },
        "55373d8c55504281b6056fb24dab206f": {
          "model_module": "@jupyter-widgets/base",
          "model_name": "LayoutModel",
          "state": {
            "_view_name": "LayoutView",
            "grid_template_rows": null,
            "right": null,
            "justify_content": null,
            "_view_module": "@jupyter-widgets/base",
            "overflow": null,
            "_model_module_version": "1.2.0",
            "_view_count": null,
            "flex_flow": null,
            "width": null,
            "min_width": null,
            "border": null,
            "align_items": null,
            "bottom": null,
            "_model_module": "@jupyter-widgets/base",
            "top": null,
            "grid_column": null,
            "overflow_y": null,
            "overflow_x": null,
            "grid_auto_flow": null,
            "grid_area": null,
            "grid_template_columns": null,
            "flex": null,
            "_model_name": "LayoutModel",
            "justify_items": null,
            "grid_row": null,
            "max_height": null,
            "align_content": null,
            "visibility": null,
            "align_self": null,
            "height": null,
            "min_height": null,
            "padding": null,
            "grid_auto_rows": null,
            "grid_gap": null,
            "max_width": null,
            "order": null,
            "_view_module_version": "1.2.0",
            "grid_template_areas": null,
            "object_position": null,
            "object_fit": null,
            "grid_auto_columns": null,
            "margin": null,
            "display": null,
            "left": null
          }
        },
        "f2833713aaab4cb2ba6a18b89f4ab918": {
          "model_module": "@jupyter-widgets/base",
          "model_name": "LayoutModel",
          "state": {
            "_view_name": "LayoutView",
            "grid_template_rows": null,
            "right": null,
            "justify_content": null,
            "_view_module": "@jupyter-widgets/base",
            "overflow": null,
            "_model_module_version": "1.2.0",
            "_view_count": null,
            "flex_flow": null,
            "width": null,
            "min_width": null,
            "border": null,
            "align_items": null,
            "bottom": null,
            "_model_module": "@jupyter-widgets/base",
            "top": null,
            "grid_column": null,
            "overflow_y": null,
            "overflow_x": null,
            "grid_auto_flow": null,
            "grid_area": null,
            "grid_template_columns": null,
            "flex": null,
            "_model_name": "LayoutModel",
            "justify_items": null,
            "grid_row": null,
            "max_height": null,
            "align_content": null,
            "visibility": null,
            "align_self": null,
            "height": null,
            "min_height": null,
            "padding": null,
            "grid_auto_rows": null,
            "grid_gap": null,
            "max_width": null,
            "order": null,
            "_view_module_version": "1.2.0",
            "grid_template_areas": null,
            "object_position": null,
            "object_fit": null,
            "grid_auto_columns": null,
            "margin": null,
            "display": null,
            "left": null
          }
        }
      }
    }
  },
  "cells": [
    {
      "cell_type": "code",
      "metadata": {
        "id": "43ZEW1H8Mk7D",
        "colab_type": "code",
        "colab": {}
      },
      "source": [
        "%tensorflow_version 2.x"
      ],
      "execution_count": 0,
      "outputs": []
    },
    {
      "cell_type": "code",
      "metadata": {
        "id": "N-tSdiuwNXxs",
        "colab_type": "code",
        "colab": {}
      },
      "source": [
        "%matplotlib inline\n",
        "\n",
        "import numpy as np\n",
        "import matplotlib.pyplot as plt\n",
        "import pandas as pd"
      ],
      "execution_count": 0,
      "outputs": []
    },
    {
      "cell_type": "code",
      "metadata": {
        "id": "IXl6m1EzNddq",
        "colab_type": "code",
        "colab": {}
      },
      "source": [
        "from tensorflow.keras.datasets import fashion_mnist"
      ],
      "execution_count": 0,
      "outputs": []
    },
    {
      "cell_type": "code",
      "metadata": {
        "id": "bW46zuq4NgoV",
        "colab_type": "code",
        "colab": {
          "base_uri": "https://localhost:8080/",
          "height": 150
        },
        "outputId": "cb3aeddc-6dc2-4175-fd7e-138e72a75e41"
      },
      "source": [
        "(x_train,y_train),(x_test,y_test)=fashion_mnist.load_data()"
      ],
      "execution_count": 4,
      "outputs": [
        {
          "output_type": "stream",
          "text": [
            "Downloading data from https://storage.googleapis.com/tensorflow/tf-keras-datasets/train-labels-idx1-ubyte.gz\n",
            "32768/29515 [=================================] - 0s 0us/step\n",
            "Downloading data from https://storage.googleapis.com/tensorflow/tf-keras-datasets/train-images-idx3-ubyte.gz\n",
            "26427392/26421880 [==============================] - 0s 0us/step\n",
            "Downloading data from https://storage.googleapis.com/tensorflow/tf-keras-datasets/t10k-labels-idx1-ubyte.gz\n",
            "8192/5148 [===============================================] - 0s 0us/step\n",
            "Downloading data from https://storage.googleapis.com/tensorflow/tf-keras-datasets/t10k-images-idx3-ubyte.gz\n",
            "4423680/4422102 [==============================] - 0s 0us/step\n"
          ],
          "name": "stdout"
        }
      ]
    },
    {
      "cell_type": "code",
      "metadata": {
        "id": "btxwcQd5NjIv",
        "colab_type": "code",
        "colab": {}
      },
      "source": [
        "class_names = ['T-shirt/top', 'Trouser', 'Pullover', 'Dress', 'Coat', 'Sandal', 'Shirt', 'Sneaker', 'Bag', 'Ankle boot']"
      ],
      "execution_count": 0,
      "outputs": []
    },
    {
      "cell_type": "markdown",
      "metadata": {
        "id": "ig8FnrZpN-tE",
        "colab_type": "text"
      },
      "source": [
        "### 整形作業"
      ]
    },
    {
      "cell_type": "code",
      "metadata": {
        "id": "JkUXp7SxNlfd",
        "colab_type": "code",
        "colab": {}
      },
      "source": [
        "x_train=x_train.reshape(60000,28,28,1)/255\n",
        "x_test=x_test.reshape(10000,28,28,1)/255"
      ],
      "execution_count": 0,
      "outputs": []
    },
    {
      "cell_type": "code",
      "metadata": {
        "id": "Xsz1aV1bNulX",
        "colab_type": "code",
        "colab": {}
      },
      "source": [
        "from tensorflow.keras.utils import to_categorical"
      ],
      "execution_count": 0,
      "outputs": []
    },
    {
      "cell_type": "code",
      "metadata": {
        "id": "Y2pJbfqzN0vY",
        "colab_type": "code",
        "colab": {}
      },
      "source": [
        "y_train=to_categorical(y_train,10)\n",
        "y_test=to_categorical(y_test,10)"
      ],
      "execution_count": 0,
      "outputs": []
    },
    {
      "cell_type": "markdown",
      "metadata": {
        "id": "htNZ95B4OJMI",
        "colab_type": "text"
      },
      "source": [
        "### 函數學習機"
      ]
    },
    {
      "cell_type": "code",
      "metadata": {
        "id": "ct4cFyVHN42V",
        "colab_type": "code",
        "colab": {}
      },
      "source": [
        "from tensorflow.keras.models import Sequential\n",
        "from tensorflow.keras.layers import Conv2D,MaxPooling2D\n",
        "from tensorflow.keras.layers import Dense,Flatten\n",
        "from tensorflow.keras.optimizers import SGD"
      ],
      "execution_count": 0,
      "outputs": []
    },
    {
      "cell_type": "code",
      "metadata": {
        "id": "rBl-ugnRONCd",
        "colab_type": "code",
        "colab": {}
      },
      "source": [
        "model=Sequential()"
      ],
      "execution_count": 0,
      "outputs": []
    },
    {
      "cell_type": "code",
      "metadata": {
        "id": "JaETgawzObzn",
        "colab_type": "code",
        "colab": {}
      },
      "source": [
        "model.add(Conv2D(16,(3,3),padding=\"same\",\n",
        "          input_shape=(28,28,1),\n",
        "          activation=\"relu\"))"
      ],
      "execution_count": 0,
      "outputs": []
    },
    {
      "cell_type": "code",
      "metadata": {
        "id": "sgLDmtWrOh_A",
        "colab_type": "code",
        "colab": {}
      },
      "source": [
        "model.add(MaxPooling2D(pool_size=(2,2)))"
      ],
      "execution_count": 0,
      "outputs": []
    },
    {
      "cell_type": "code",
      "metadata": {
        "id": "InlV3NWhOinG",
        "colab_type": "code",
        "colab": {}
      },
      "source": [
        "model.add(Conv2D(32,(3,3),padding=\"same\",\n",
        "                 activation=\"relu\"))"
      ],
      "execution_count": 0,
      "outputs": []
    },
    {
      "cell_type": "code",
      "metadata": {
        "id": "EAKDSglkOlJ3",
        "colab_type": "code",
        "colab": {}
      },
      "source": [
        "model.add(MaxPooling2D(pool_size=(2,2)))"
      ],
      "execution_count": 0,
      "outputs": []
    },
    {
      "cell_type": "code",
      "metadata": {
        "id": "dxlhfGW-OssW",
        "colab_type": "code",
        "colab": {}
      },
      "source": [
        "model.add(Conv2D(64,(3,3),padding=\"same\",\n",
        "                 activation=\"relu\"))"
      ],
      "execution_count": 0,
      "outputs": []
    },
    {
      "cell_type": "code",
      "metadata": {
        "id": "3nx9zl0uOwWN",
        "colab_type": "code",
        "colab": {}
      },
      "source": [
        "model.add(MaxPooling2D(pool_size=(2,2)))"
      ],
      "execution_count": 0,
      "outputs": []
    },
    {
      "cell_type": "code",
      "metadata": {
        "id": "vhYUWm5QOybk",
        "colab_type": "code",
        "colab": {}
      },
      "source": [
        "model.add(Flatten())"
      ],
      "execution_count": 0,
      "outputs": []
    },
    {
      "cell_type": "code",
      "metadata": {
        "id": "dM5uT0v2O0uq",
        "colab_type": "code",
        "colab": {}
      },
      "source": [
        "model.add(Dense(57,activation=\"relu\"))"
      ],
      "execution_count": 0,
      "outputs": []
    },
    {
      "cell_type": "code",
      "metadata": {
        "id": "-caSwRKSO_Eo",
        "colab_type": "code",
        "colab": {}
      },
      "source": [
        "model.add(Dense(10,activation=\"softmax\"))"
      ],
      "execution_count": 0,
      "outputs": []
    },
    {
      "cell_type": "code",
      "metadata": {
        "id": "WXsSNkzXO_7A",
        "colab_type": "code",
        "colab": {
          "base_uri": "https://localhost:8080/",
          "height": 450
        },
        "outputId": "82ac1515-14e6-4467-ba5f-83789715e0a7"
      },
      "source": [
        "model.summary()"
      ],
      "execution_count": 20,
      "outputs": [
        {
          "output_type": "stream",
          "text": [
            "Model: \"sequential\"\n",
            "_________________________________________________________________\n",
            "Layer (type)                 Output Shape              Param #   \n",
            "=================================================================\n",
            "conv2d (Conv2D)              (None, 28, 28, 16)        160       \n",
            "_________________________________________________________________\n",
            "max_pooling2d (MaxPooling2D) (None, 14, 14, 16)        0         \n",
            "_________________________________________________________________\n",
            "conv2d_1 (Conv2D)            (None, 14, 14, 32)        4640      \n",
            "_________________________________________________________________\n",
            "max_pooling2d_1 (MaxPooling2 (None, 7, 7, 32)          0         \n",
            "_________________________________________________________________\n",
            "conv2d_2 (Conv2D)            (None, 7, 7, 64)          18496     \n",
            "_________________________________________________________________\n",
            "max_pooling2d_2 (MaxPooling2 (None, 3, 3, 64)          0         \n",
            "_________________________________________________________________\n",
            "flatten (Flatten)            (None, 576)               0         \n",
            "_________________________________________________________________\n",
            "dense (Dense)                (None, 57)                32889     \n",
            "_________________________________________________________________\n",
            "dense_1 (Dense)              (None, 10)                580       \n",
            "=================================================================\n",
            "Total params: 56,765\n",
            "Trainable params: 56,765\n",
            "Non-trainable params: 0\n",
            "_________________________________________________________________\n"
          ],
          "name": "stdout"
        }
      ]
    },
    {
      "cell_type": "code",
      "metadata": {
        "id": "Lv6VZdTGPC9E",
        "colab_type": "code",
        "colab": {}
      },
      "source": [
        "model.compile(loss=\"mse\",optimizer=SGD(lr=0.67),\n",
        "              metrics=[\"accuracy\"])"
      ],
      "execution_count": 0,
      "outputs": []
    },
    {
      "cell_type": "markdown",
      "metadata": {
        "id": "CJVW-PRiPVid",
        "colab_type": "text"
      },
      "source": [
        "### 訓練"
      ]
    },
    {
      "cell_type": "code",
      "metadata": {
        "id": "tciheswGPZU-",
        "colab_type": "code",
        "colab": {
          "base_uri": "https://localhost:8080/",
          "height": 533
        },
        "outputId": "b913d83d-7a02-4648-c215-1067f44e4d2e"
      },
      "source": [
        "model.fit(x_train,y_train,batch_size=128,epochs=15)"
      ],
      "execution_count": 22,
      "outputs": [
        {
          "output_type": "stream",
          "text": [
            "Epoch 1/15\n",
            "469/469 [==============================] - 2s 5ms/step - loss: 0.0628 - accuracy: 0.4904\n",
            "Epoch 2/15\n",
            "469/469 [==============================] - 2s 5ms/step - loss: 0.0325 - accuracy: 0.7679\n",
            "Epoch 3/15\n",
            "469/469 [==============================] - 2s 5ms/step - loss: 0.0262 - accuracy: 0.8176\n",
            "Epoch 4/15\n",
            "469/469 [==============================] - 2s 5ms/step - loss: 0.0229 - accuracy: 0.8396\n",
            "Epoch 5/15\n",
            "469/469 [==============================] - 2s 5ms/step - loss: 0.0209 - accuracy: 0.8560\n",
            "Epoch 6/15\n",
            "469/469 [==============================] - 2s 5ms/step - loss: 0.0195 - accuracy: 0.8658\n",
            "Epoch 7/15\n",
            "469/469 [==============================] - 2s 5ms/step - loss: 0.0187 - accuracy: 0.8706\n",
            "Epoch 8/15\n",
            "469/469 [==============================] - 2s 5ms/step - loss: 0.0177 - accuracy: 0.8783\n",
            "Epoch 9/15\n",
            "469/469 [==============================] - 2s 5ms/step - loss: 0.0172 - accuracy: 0.8818\n",
            "Epoch 10/15\n",
            "469/469 [==============================] - 2s 5ms/step - loss: 0.0166 - accuracy: 0.8865\n",
            "Epoch 11/15\n",
            "469/469 [==============================] - 2s 5ms/step - loss: 0.0161 - accuracy: 0.8899\n",
            "Epoch 12/15\n",
            "469/469 [==============================] - 2s 5ms/step - loss: 0.0156 - accuracy: 0.8941\n",
            "Epoch 13/15\n",
            "469/469 [==============================] - 2s 4ms/step - loss: 0.0153 - accuracy: 0.8961\n",
            "Epoch 14/15\n",
            "469/469 [==============================] - 2s 5ms/step - loss: 0.0150 - accuracy: 0.8979\n",
            "Epoch 15/15\n",
            "469/469 [==============================] - 2s 5ms/step - loss: 0.0145 - accuracy: 0.9026\n"
          ],
          "name": "stdout"
        },
        {
          "output_type": "execute_result",
          "data": {
            "text/plain": [
              "<tensorflow.python.keras.callbacks.History at 0x7fa8902bcc18>"
            ]
          },
          "metadata": {
            "tags": []
          },
          "execution_count": 22
        }
      ]
    },
    {
      "cell_type": "code",
      "metadata": {
        "id": "xzm8ALgBPaYB",
        "colab_type": "code",
        "colab": {
          "base_uri": "https://localhost:8080/",
          "height": 533
        },
        "outputId": "ccaafb22-6de0-4036-9ea5-252d4a24cbf7"
      },
      "source": [
        "model.fit(x_train,y_train,batch_size=128,epochs=15)"
      ],
      "execution_count": 23,
      "outputs": [
        {
          "output_type": "stream",
          "text": [
            "Epoch 1/15\n",
            "469/469 [==============================] - 2s 5ms/step - loss: 0.0142 - accuracy: 0.9043\n",
            "Epoch 2/15\n",
            "469/469 [==============================] - 2s 4ms/step - loss: 0.0140 - accuracy: 0.9067\n",
            "Epoch 3/15\n",
            "469/469 [==============================] - 2s 4ms/step - loss: 0.0137 - accuracy: 0.9069\n",
            "Epoch 4/15\n",
            "469/469 [==============================] - 2s 4ms/step - loss: 0.0134 - accuracy: 0.9105\n",
            "Epoch 5/15\n",
            "469/469 [==============================] - 2s 5ms/step - loss: 0.0132 - accuracy: 0.9117\n",
            "Epoch 6/15\n",
            "469/469 [==============================] - 2s 5ms/step - loss: 0.0130 - accuracy: 0.9132\n",
            "Epoch 7/15\n",
            "469/469 [==============================] - 2s 4ms/step - loss: 0.0128 - accuracy: 0.9148\n",
            "Epoch 8/15\n",
            "469/469 [==============================] - 2s 5ms/step - loss: 0.0125 - accuracy: 0.9158\n",
            "Epoch 9/15\n",
            "469/469 [==============================] - 2s 4ms/step - loss: 0.0122 - accuracy: 0.9179\n",
            "Epoch 10/15\n",
            "469/469 [==============================] - 2s 5ms/step - loss: 0.0121 - accuracy: 0.9192\n",
            "Epoch 11/15\n",
            "469/469 [==============================] - 2s 5ms/step - loss: 0.0118 - accuracy: 0.9219\n",
            "Epoch 12/15\n",
            "469/469 [==============================] - 2s 4ms/step - loss: 0.0117 - accuracy: 0.9225\n",
            "Epoch 13/15\n",
            "469/469 [==============================] - 2s 5ms/step - loss: 0.0116 - accuracy: 0.9234\n",
            "Epoch 14/15\n",
            "469/469 [==============================] - 2s 5ms/step - loss: 0.0113 - accuracy: 0.9252\n",
            "Epoch 15/15\n",
            "469/469 [==============================] - 2s 5ms/step - loss: 0.0111 - accuracy: 0.9263\n"
          ],
          "name": "stdout"
        },
        {
          "output_type": "execute_result",
          "data": {
            "text/plain": [
              "<tensorflow.python.keras.callbacks.History at 0x7fa89013d128>"
            ]
          },
          "metadata": {
            "tags": []
          },
          "execution_count": 23
        }
      ]
    },
    {
      "cell_type": "markdown",
      "metadata": {
        "id": "u2D2CkBKPwFi",
        "colab_type": "text"
      },
      "source": [
        "### 預測"
      ]
    },
    {
      "cell_type": "code",
      "metadata": {
        "id": "JE6oiMqNP9U1",
        "colab_type": "code",
        "colab": {
          "base_uri": "https://localhost:8080/",
          "height": 87
        },
        "outputId": "c8309584-ada2-4669-fbf4-4578d9ba2efd"
      },
      "source": [
        "result = model.predict_classes(x_test)"
      ],
      "execution_count": 24,
      "outputs": [
        {
          "output_type": "stream",
          "text": [
            "WARNING:tensorflow:From <ipython-input-24-63af5bb2f9b6>:1: Sequential.predict_classes (from tensorflow.python.keras.engine.sequential) is deprecated and will be removed after 2021-01-01.\n",
            "Instructions for updating:\n",
            "Please use instead:* `np.argmax(model.predict(x), axis=-1)`,   if your model does multi-class classification   (e.g. if it uses a `softmax` last-layer activation).* `(model.predict(x) > 0.5).astype(\"int32\")`,   if your model does binary classification   (e.g. if it uses a `sigmoid` last-layer activation).\n"
          ],
          "name": "stdout"
        }
      ]
    },
    {
      "cell_type": "code",
      "metadata": {
        "id": "-n-tc-mAP-OY",
        "colab_type": "code",
        "colab": {}
      },
      "source": [
        "def my_predict(n):\n",
        "  print(\"CNN預測：\",class_names[result[n]])\n",
        "  a=x_test[n].reshape(28,28)\n",
        "  plt.imshow(a,cmap=\"Reds\")"
      ],
      "execution_count": 0,
      "outputs": []
    },
    {
      "cell_type": "code",
      "metadata": {
        "id": "xbZZMYaiQGh3",
        "colab_type": "code",
        "colab": {}
      },
      "source": [
        "from ipywidgets import interact_manual"
      ],
      "execution_count": 0,
      "outputs": []
    },
    {
      "cell_type": "code",
      "metadata": {
        "id": "QxSDdfxxQvgw",
        "colab_type": "code",
        "colab": {
          "base_uri": "https://localhost:8080/",
          "height": 362,
          "referenced_widgets": [
            "d71c60181ae94df0b2f630c857827b62",
            "2a74f45941d2473c9691616d7bec0120",
            "145416352f8b4b1ab127c7abe59a2505",
            "d1fa102a95b94e48a7f63def2664be46",
            "160b8ab8a58645508c599cc8184f7431",
            "c6b5bcc694f147db9a5fc070cb1d4a7c",
            "dd497f42daaa48b29336ee6e680adb9a",
            "1fe2c2c936954ec9a7d33965824af324",
            "55373d8c55504281b6056fb24dab206f",
            "f2833713aaab4cb2ba6a18b89f4ab918"
          ]
        },
        "outputId": "e3946d31-5d23-477f-9d6e-97efcf22506e"
      },
      "source": [
        "interact_manual(my_predict,n=(0,9999))"
      ],
      "execution_count": 27,
      "outputs": [
        {
          "output_type": "display_data",
          "data": {
            "application/vnd.jupyter.widget-view+json": {
              "model_id": "d71c60181ae94df0b2f630c857827b62",
              "version_minor": 0,
              "version_major": 2
            },
            "text/plain": [
              "interactive(children=(IntSlider(value=4999, description='n', max=9999), Button(description='Run Interact', sty…"
            ]
          },
          "metadata": {
            "tags": []
          }
        },
        {
          "output_type": "execute_result",
          "data": {
            "text/plain": [
              "<function __main__.my_predict>"
            ]
          },
          "metadata": {
            "tags": []
          },
          "execution_count": 27
        }
      ]
    },
    {
      "cell_type": "markdown",
      "metadata": {
        "id": "pTv4gkzrQyVl",
        "colab_type": "text"
      },
      "source": [
        "### 除了原本的程式做了小小的改變，像是請三歲小孩幫忙想數字，第一次成果就不錯呢! "
      ]
    },
    {
      "cell_type": "code",
      "metadata": {
        "id": "Spfnt3QLRR5x",
        "colab_type": "code",
        "colab": {}
      },
      "source": [
        ""
      ],
      "execution_count": 0,
      "outputs": []
    }
  ]
}