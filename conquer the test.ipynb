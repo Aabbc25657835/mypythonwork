{
 "cells": [
  {
   "cell_type": "code",
   "execution_count": 1,
   "metadata": {},
   "outputs": [],
   "source": [
    "%matplotlib inline\n",
    "\n",
    "import numpy as np\n",
    "import matplotlib.pyplot as plt\n",
    "import pandas as pd"
   ]
  },
  {
   "cell_type": "code",
   "execution_count": 2,
   "metadata": {},
   "outputs": [],
   "source": [
    "list=['A','B','C','D','E']"
   ]
  },
  {
   "cell_type": "code",
   "execution_count": 15,
   "metadata": {},
   "outputs": [
    {
     "name": "stdout",
     "output_type": "stream",
     "text": [
      "A B\n"
     ]
    }
   ],
   "source": [
    "print(' '.join(random.sample(list, 2) ))"
   ]
  },
  {
   "cell_type": "code",
   "execution_count": 5,
   "metadata": {},
   "outputs": [],
   "source": [
    "import random"
   ]
  },
  {
   "cell_type": "code",
   "execution_count": 8,
   "metadata": {},
   "outputs": [],
   "source": [
    "from random import choice"
   ]
  },
  {
   "cell_type": "code",
   "execution_count": null,
   "metadata": {},
   "outputs": [],
   "source": [
    "n=input(\"\")\n",
    "if \"單選題\" in n:\n",
    "    print(list[np.random.randint(0,5)])\n",
    "elif \"多選題\" in n:\n",
    "    m=input(\"\")\n",
    "    if \"2\" in m:\n",
    "        print(' '.join(random.sample(list, 2) ))\n",
    "    elif \"3\" in m:\n",
    "        print(' '.join(random.sample(list, 3) ))\n",
    "    elif \"4\" in m:\n",
    "        print(' '.join(random.sample(list, 4) ))\n",
    "    elif \"5\" in m:\n",
    "        print(\"全選還問我\")\n",
    "    else:\n",
    "        print(\"可以不要為難我嗎\")\n",
    "elif \"選填題\" in n:\n",
    "    print(\"你都猜不中了我有可能嗎\")\n",
    "else:\n",
    "    print(\"你確定有要寫題目\")"
   ]
  },
  {
   "cell_type": "code",
   "execution_count": null,
   "metadata": {},
   "outputs": [],
   "source": []
  }
 ],
 "metadata": {
  "kernelspec": {
   "display_name": "Python 3",
   "language": "python",
   "name": "python3"
  },
  "language_info": {
   "codemirror_mode": {
    "name": "ipython",
    "version": 3
   },
   "file_extension": ".py",
   "mimetype": "text/x-python",
   "name": "python",
   "nbconvert_exporter": "python",
   "pygments_lexer": "ipython3",
   "version": "3.7.3"
  }
 },
 "nbformat": 4,
 "nbformat_minor": 2
}
